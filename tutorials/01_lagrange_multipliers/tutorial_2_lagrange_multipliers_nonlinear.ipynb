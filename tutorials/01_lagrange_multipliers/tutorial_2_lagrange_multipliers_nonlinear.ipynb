{
 "cells": [
  {
   "cell_type": "markdown",
   "id": "0c7a7e67",
   "metadata": {},
   "source": [
    "# Tutorial 01, case 2: weak imposition of Dirichlet BCs by a Lagrange multiplier (nonlinear problem)\n",
    "\n",
    "In this tutorial we solve the problem\n",
    "\n",
    "$$\\begin{align*}\n",
    "&\\min_{u} \\int_\\Omega \\left\\{ (1 + u^2)\\ |\\nabla u|^2 - u \\right\\} dx,\\\\\n",
    "&\\text{s.t. } u = g\\text{ on }\\Gamma = \\partial \\Omega\n",
    "\\end{align*}$$\n",
    "where $\\Omega$ is a ball in 2D.\n",
    "\n",
    "The optimality conditions result in the following nonlinear problem\n",
    "\n",
    "$$\\begin{align*}\n",
    "&\\int_\\Omega (1+u^2)\\ \\nabla u \\cdot \\nabla v \\ dx + \\int_\\Omega u \\ |\\nabla u|^2 v \\ dx = \\int_\\Omega v \\ dx\\\\\n",
    "&\\text{s.t. } u = g\\text{ on }\\Gamma = \\partial \\Omega\n",
    "\\end{align*}$$\n",
    "\n",
    "\n",
    "We compare the following two cases:\n",
    "* **strong imposition of Dirichlet BCs**:\n",
    "the corresponding weak formulation is\n",
    "$$\n",
    "\\text{find } u \\in V_g \\text{ s.t. } \\int_\\Omega (1+u^2)\\ \\nabla u \\cdot \\nabla v \\ dx + \\int_\\Omega u \\ |\\nabla u|^2 v \\ dx = \\int_\\Omega v \\ dx, \\quad \\forall v \\in V_0\\\\\n",
    "$$\n",
    "where\n",
    "$$\n",
    "V_g = \\{v \\in H^1(\\Omega): v|_\\Gamma = g\\},\\\\\n",
    "V_0 = \\{v \\in H^1(\\Omega): v|_\\Gamma = 0\\}.\\\\\n",
    "$$\n",
    "* **weak imposition of Dirichlet BCs**: this requires an introduction of a multiplier $\\lambda$ which is restricted to $\\Gamma$, and solves\n",
    "\n",
    "$$\n",
    "\\text{find } u, \\lambda \\in V \\times M \\text{ s.t. }\\\\\n",
    "\\begin{align*}\n",
    "&\\int_\\Omega (1+u^2)\\ \\nabla u \\cdot \\nabla v \\ dx + \\int_\\Omega u \\ |\\nabla u|^2 v \\ dx & &+ \\int_\\Gamma \\lambda v \\ dx & &= \\int_\\Omega v \\ dx, & \\forall v \\in V,\\\\\n",
    "&\\int_\\Gamma u \\mu \\ ds & & & &= \\int_\\Gamma g \\mu \\ ds, & \\forall \\mu \\in M\n",
    "\\end{align*}\n",
    "$$\n",
    "\n",
    "where\n",
    "$$\n",
    "V = H^1(\\Omega),\\\\\n",
    "M = L^{2}(\\Gamma).\\\\\n",
    "$$\n",
    "\n",
    "This example is a prototypical case of problems containing subdomain/boundary restricted variables (the Lagrange multiplier, in this case)."
   ]
  },
  {
   "cell_type": "code",
   "execution_count": null,
   "id": "17e708bf",
   "metadata": {},
   "outputs": [],
   "source": [
    "import dolfinx.fem\n",
    "import dolfinx.fem.petsc\n",
    "import dolfinx.io\n",
    "import gmsh\n",
    "import mpi4py.MPI\n",
    "import numpy as np\n",
    "import ufl\n",
    "import viskex"
   ]
  },
  {
   "cell_type": "code",
   "execution_count": null,
   "id": "921087c9",
   "metadata": {},
   "outputs": [],
   "source": [
    "import multiphenicsx.fem\n",
    "import multiphenicsx.fem.petsc"
   ]
  },
  {
   "cell_type": "markdown",
   "id": "3515090d",
   "metadata": {},
   "source": [
    "### Geometrical parameters"
   ]
  },
  {
   "cell_type": "code",
   "execution_count": null,
   "id": "0deb0ae7",
   "metadata": {},
   "outputs": [],
   "source": [
    "r = 3\n",
    "mesh_size = 1. / 4."
   ]
  },
  {
   "cell_type": "markdown",
   "id": "be09ac4d",
   "metadata": {},
   "source": [
    "### Mesh"
   ]
  },
  {
   "cell_type": "code",
   "execution_count": null,
   "id": "2d0345ae",
   "metadata": {},
   "outputs": [],
   "source": [
    "gmsh.initialize()\n",
    "gmsh.model.add(\"mesh\")"
   ]
  },
  {
   "cell_type": "code",
   "execution_count": null,
   "id": "10d2b91f",
   "metadata": {},
   "outputs": [],
   "source": [
    "p0 = gmsh.model.geo.addPoint(0.0, 0.0, 0.0, mesh_size)\n",
    "p1 = gmsh.model.geo.addPoint(0.0, +r, 0.0, mesh_size)\n",
    "p2 = gmsh.model.geo.addPoint(0.0, -r, 0.0, mesh_size)\n",
    "c0 = gmsh.model.geo.addCircleArc(p1, p0, p2)\n",
    "c1 = gmsh.model.geo.addCircleArc(p2, p0, p1)\n",
    "boundary = gmsh.model.geo.addCurveLoop([c0, c1])\n",
    "domain = gmsh.model.geo.addPlaneSurface([boundary])"
   ]
  },
  {
   "cell_type": "code",
   "execution_count": null,
   "id": "0f13b244",
   "metadata": {},
   "outputs": [],
   "source": [
    "gmsh.model.geo.synchronize()\n",
    "gmsh.model.addPhysicalGroup(1, [c0, c1], 1)\n",
    "gmsh.model.addPhysicalGroup(2, [boundary], 0)\n",
    "gmsh.model.mesh.generate(2)"
   ]
  },
  {
   "cell_type": "code",
   "execution_count": null,
   "id": "0a20b6cb",
   "metadata": {},
   "outputs": [],
   "source": [
    "mesh, subdomains, boundaries, *other_tags = dolfinx.io.gmshio.model_to_mesh(\n",
    "    gmsh.model, comm=mpi4py.MPI.COMM_WORLD, rank=0, gdim=2)\n",
    "gmsh.finalize\n",
    "assert subdomains is not None\n",
    "assert boundaries is not None"
   ]
  },
  {
   "cell_type": "code",
   "execution_count": null,
   "id": "d329a5e5-42b5-4f11-8484-9fee49b0794a",
   "metadata": {},
   "outputs": [],
   "source": [
    "# Create connectivities required by the rest of the code\n",
    "mesh.topology.create_connectivity(mesh.topology.dim - 1, mesh.topology.dim)"
   ]
  },
  {
   "cell_type": "code",
   "execution_count": null,
   "id": "ab47b49e",
   "metadata": {},
   "outputs": [],
   "source": [
    "facets_Gamma = boundaries.indices[boundaries.values == 1]"
   ]
  },
  {
   "cell_type": "code",
   "execution_count": null,
   "id": "b9335b20",
   "metadata": {},
   "outputs": [],
   "source": [
    "viskex.dolfinx.plot_mesh(mesh)"
   ]
  },
  {
   "cell_type": "code",
   "execution_count": null,
   "id": "ea947631",
   "metadata": {},
   "outputs": [],
   "source": [
    "viskex.dolfinx.plot_mesh_tags(mesh, boundaries, \"boundaries\")"
   ]
  },
  {
   "cell_type": "markdown",
   "id": "d74bb465",
   "metadata": {},
   "source": [
    "### Weak imposition of Dirichlet BCs"
   ]
  },
  {
   "cell_type": "code",
   "execution_count": null,
   "id": "eccbf35a",
   "metadata": {},
   "outputs": [],
   "source": [
    "# Define a function space\n",
    "V = dolfinx.fem.functionspace(mesh, (\"Lagrange\", 2))\n",
    "M = V.clone()"
   ]
  },
  {
   "cell_type": "code",
   "execution_count": null,
   "id": "24db5fbb",
   "metadata": {},
   "outputs": [],
   "source": [
    "# Define restrictions\n",
    "dofs_V = np.arange(0, V.dofmap.index_map.size_local + V.dofmap.index_map.num_ghosts)\n",
    "dofs_M_Gamma = dolfinx.fem.locate_dofs_topological(M, boundaries.dim, facets_Gamma)\n",
    "restriction_V = multiphenicsx.fem.DofMapRestriction(V.dofmap, dofs_V)\n",
    "restriction_M_Gamma = multiphenicsx.fem.DofMapRestriction(M.dofmap, dofs_M_Gamma)\n",
    "restriction = [restriction_V, restriction_M_Gamma]"
   ]
  },
  {
   "cell_type": "code",
   "execution_count": null,
   "id": "00a9f11b",
   "metadata": {},
   "outputs": [],
   "source": [
    "# Define test functions, as well as solutions\n",
    "(u, l) = (dolfinx.fem.Function(V), dolfinx.fem.Function(M))\n",
    "(v, m) = (ufl.TestFunction(V), ufl.TestFunction(M))"
   ]
  },
  {
   "cell_type": "code",
   "execution_count": null,
   "id": "2b13645c",
   "metadata": {},
   "outputs": [],
   "source": [
    "# Define problem block forms\n",
    "g = dolfinx.fem.Function(V)\n",
    "g.interpolate(lambda x: np.sin(3 * x[0] + 1) * np.sin(3 * x[1] + 1))\n",
    "F = [(ufl.inner((1 + u**2) * ufl.grad(u), ufl.grad(v)) * ufl.dx\n",
    "      + ufl.inner(ufl.dot(ufl.grad(u), ufl.grad(u)) * u, v) * ufl.dx\n",
    "      + ufl.inner(l, v) * ufl.ds - ufl.inner(1, v) * ufl.dx),\n",
    "     ufl.inner(u, m) * ufl.ds - ufl.inner(g, m) * ufl.ds]"
   ]
  },
  {
   "cell_type": "code",
   "execution_count": null,
   "id": "f36d66f2",
   "metadata": {},
   "outputs": [],
   "source": [
    "# Solve\n",
    "petsc_options = {\n",
    "    \"ksp_type\": \"preonly\",\n",
    "    \"pc_type\": \"lu\",\n",
    "    \"pc_factor_mat_solver_type\": \"mumps\",\n",
    "    \"ksp_error_if_not_converged\": True,\n",
    "    \"snes_monitor\": None,\n",
    "    \"snes_error_if_not_converged\": True\n",
    "}\n",
    "problem = multiphenicsx.fem.petsc.NonlinearProblem(\n",
    "    F, (u, l),\n",
    "    petsc_options_prefix=\"tutorial_1_lagrange_multipliers_nonlinear_\", petsc_options=petsc_options,\n",
    "    kind=\"mpi\", restriction=restriction\n",
    ")\n",
    "_, _, convergence_reason, num_snes_iterations = problem.solve()\n",
    "assert convergence_reason > 0\n",
    "del problem"
   ]
  },
  {
   "cell_type": "code",
   "execution_count": null,
   "id": "654d6229",
   "metadata": {},
   "outputs": [],
   "source": [
    "viskex.dolfinx.plot_scalar_field(u, \"u\")"
   ]
  },
  {
   "cell_type": "code",
   "execution_count": null,
   "id": "5e027a7e",
   "metadata": {},
   "outputs": [],
   "source": [
    "viskex.dolfinx.plot_scalar_field(l, \"l\")"
   ]
  },
  {
   "cell_type": "markdown",
   "id": "9cf083a1",
   "metadata": {},
   "source": [
    "### Strong imposition of Dirichlet BCs"
   ]
  },
  {
   "cell_type": "code",
   "execution_count": null,
   "id": "d6ce9932",
   "metadata": {},
   "outputs": [],
   "source": [
    "# Define problem block forms\n",
    "u_ex = dolfinx.fem.Function(V)\n",
    "F_ex = ufl.replace(F[0], {u: u_ex, l: 0})"
   ]
  },
  {
   "cell_type": "code",
   "execution_count": null,
   "id": "e984b5df",
   "metadata": {},
   "outputs": [],
   "source": [
    "# Define Dirichlet BC object on Gamma\n",
    "dofs_V_Gamma = dolfinx.fem.locate_dofs_topological(V, boundaries.dim, facets_Gamma)\n",
    "bc_ex = [dolfinx.fem.dirichletbc(g, dofs_V_Gamma)]"
   ]
  },
  {
   "cell_type": "code",
   "execution_count": null,
   "id": "555e631e",
   "metadata": {},
   "outputs": [],
   "source": [
    "# Solve\n",
    "problem_ex = dolfinx.fem.petsc.NonlinearProblem(\n",
    "    F_ex, u_ex, bcs=bc_ex,\n",
    "    petsc_options_prefix=\"tutorial_1_lagrange_multipliers_nonlinear_ex_\", petsc_options=petsc_options\n",
    ")\n",
    "_, _, convergence_reason, num_snes_iterations = problem_ex.solve()  # type: ignore[assignment]\n",
    "assert convergence_reason > 0\n",
    "del problem_ex"
   ]
  },
  {
   "cell_type": "code",
   "execution_count": null,
   "id": "3909209d",
   "metadata": {},
   "outputs": [],
   "source": [
    "viskex.dolfinx.plot_scalar_field(u_ex, \"u\")"
   ]
  },
  {
   "cell_type": "markdown",
   "id": "d9d09459",
   "metadata": {},
   "source": [
    "### Comparison and error computation"
   ]
  },
  {
   "cell_type": "code",
   "execution_count": null,
   "id": "42bf8f8f",
   "metadata": {},
   "outputs": [],
   "source": [
    "u_ex_norm = np.sqrt(mesh.comm.allreduce(\n",
    "    dolfinx.fem.assemble_scalar(dolfinx.fem.form(ufl.inner(ufl.grad(u_ex), ufl.grad(u_ex)) * ufl.dx)),\n",
    "    op=mpi4py.MPI.SUM))\n",
    "err_norm = np.sqrt(mesh.comm.allreduce(\n",
    "    dolfinx.fem.assemble_scalar(dolfinx.fem.form(ufl.inner(ufl.grad(u_ex - u), ufl.grad(u_ex - u)) * ufl.dx)),\n",
    "    op=mpi4py.MPI.SUM))\n",
    "print(\"Relative error is equal to\", err_norm / u_ex_norm)\n",
    "assert np.isclose(err_norm / u_ex_norm, 0., atol=1.e-9)"
   ]
  }
 ],
 "metadata": {
  "kernelspec": {
   "display_name": "Python 3 (ipykernel)",
   "language": "python",
   "name": "python3"
  },
  "language_info": {
   "codemirror_mode": {
    "name": "ipython"
   },
   "file_extension": ".py",
   "mimetype": "text/x-python",
   "name": "python",
   "nbconvert_exporter": "python"
  }
 },
 "nbformat": 4,
 "nbformat_minor": 5
}
